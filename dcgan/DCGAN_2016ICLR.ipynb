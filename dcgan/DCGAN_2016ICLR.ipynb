{
  "nbformat": 4,
  "nbformat_minor": 0,
  "metadata": {
    "colab": {
      "provenance": [],
      "authorship_tag": "ABX9TyOzyXI3DO4iGBGaaPsO18d9"
    },
    "kernelspec": {
      "name": "python3",
      "display_name": "Python 3"
    },
    "language_info": {
      "name": "python"
    }
  },
  "cells": [
    {
      "cell_type": "code",
      "execution_count": null,
      "metadata": {
        "id": "3M1kYlTGZ1lM"
      },
      "outputs": [],
      "source": [
        "%%writefile model.py\n",
        "\n",
        "import torch\n",
        "import torch.nn as nn\n",
        "\n",
        "\n",
        "class Discriminator(nn.Module):\n",
        "  def __init__(self, channels_ing, features_d):\n",
        "    super().__init__()\n",
        "    self.discriminator = nn.Sequential(\n",
        "        nn.Conv2d(in_channels=channels_img,\n",
        "                  out_channels=features_d,\n",
        "                  kernel_size=4,\n",
        "                  stride=2,\n",
        "                  padding=1\n",
        "                  ),\n",
        "        nn.LeakyReLU(0.2, inplace=True),\n",
        "        self._block(features_d, 2*features_d, 4, 2, 1),\n",
        "        self._block(2*features_d, 4*features_d, 4, 2, 1),\n",
        "        self._block(4*features_d, 8*features_d, 4, 2, 1),\n",
        "        nn.Conv2d(8*features_d, 1, 4, 2, 0),\n",
        "        nn.Sigmoid()\n",
        "    )\n",
        "\n",
        "\n",
        "\n",
        "  def _block(self, in_channels, out_channels, kernel_size, stride, padding):\n",
        "    return nn.Sequential(\n",
        "        nn.Conv2d(in_channels, out_channels, kernel_size, stride, padding, bias=False),\n",
        "        nn.BatchNorm2d(out_channels),\n",
        "        nn.LeakyReU(0.2, inplace=True)\n",
        "    )\n",
        "\n",
        "  def forward(self, x):\n",
        "    return self.discriminator(x)\n",
        "\n",
        "\n",
        "class Generator(nn.Module):\n",
        "  def __init__(self, latent_dim):\n",
        "    super().__init__()\n",
        "\n"
      ]
    }
  ]
}